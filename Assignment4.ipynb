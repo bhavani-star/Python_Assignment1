{
 "cells": [
  {
   "cell_type": "code",
   "execution_count": 2,
   "id": "adf938c6",
   "metadata": {},
   "outputs": [
    {
     "data": {
      "text/plain": [
       "list"
      ]
     },
     "execution_count": 2,
     "metadata": {},
     "output_type": "execute_result"
    }
   ],
   "source": [
    "\"\"\"1. What exactly is []? \"\"\"\n",
    "\"\"\" [] defines as list \"\"\"\n",
    "l = []\n",
    "type(l)\n"
   ]
  },
  {
   "cell_type": "code",
   "execution_count": 11,
   "id": "65e5f6c9",
   "metadata": {},
   "outputs": [
    {
     "data": {
      "text/plain": [
       "[2, 4, 'hello', 6, 8, 10]"
      ]
     },
     "execution_count": 11,
     "metadata": {},
     "output_type": "execute_result"
    }
   ],
   "source": [
    "\"\"\"2. In a list of values stored in a variable called spam, how would you assign the value 'hello' as the third value? \n",
    "(Assume [2, 4, 6, 8, 10] are in spam.)\"\"\"\n",
    "# With list insert method we can insert item in specified index  \n",
    "spam=[2,4,6,8,10]\n",
    "spam.insert(2,'hello')\n",
    "spam"
   ]
  },
  {
   "cell_type": "code",
   "execution_count": 13,
   "id": "99e19067",
   "metadata": {},
   "outputs": [
    {
     "data": {
      "text/plain": [
       "'d'"
      ]
     },
     "execution_count": 13,
     "metadata": {},
     "output_type": "execute_result"
    }
   ],
   "source": [
    "\"\"\"\n",
    "Let's pretend the spam includes the list ['a', 'b', 'c', 'd'] for the next three queries.\n",
    "3. What is the value of spam[int(int('3' * 2) / 11)]?\n",
    "4. What is the value of spam[-1]?\n",
    "5. What is the value of spam[:2]?\n",
    "\"\"\"\n",
    "spam= ['a', 'b', 'c', 'd']\n",
    "spam[int(int('3' * 2) / 11)]"
   ]
  },
  {
   "cell_type": "code",
   "execution_count": 14,
   "id": "a80c1439",
   "metadata": {},
   "outputs": [
    {
     "data": {
      "text/plain": [
       "'d'"
      ]
     },
     "execution_count": 14,
     "metadata": {},
     "output_type": "execute_result"
    }
   ],
   "source": [
    "spam[-1]"
   ]
  },
  {
   "cell_type": "code",
   "execution_count": 15,
   "id": "7e21cc7b",
   "metadata": {},
   "outputs": [
    {
     "data": {
      "text/plain": [
       "['a', 'b']"
      ]
     },
     "execution_count": 15,
     "metadata": {},
     "output_type": "execute_result"
    }
   ],
   "source": [
    "spam[:2]"
   ]
  },
  {
   "cell_type": "code",
   "execution_count": 22,
   "id": "e58fa175",
   "metadata": {},
   "outputs": [
    {
     "name": "stdout",
     "output_type": "stream",
     "text": [
      "1\n"
     ]
    }
   ],
   "source": [
    "\"\"\"\n",
    "Let's pretend bacon has the list [3.14, 'cat,' 11, 'cat,' True] for the next three questions.\n",
    "6. What is the value of bacon.index('cat')?\n",
    "7. How does bacon.append(99) change the look of the list value in bacon?\n",
    "8. How does bacon.remove('cat') change the look of the list in bacon? \"\"\"\n",
    "\n",
    "bacon= [3.14, 'cat', 11, 'cat' ,True] \n",
    "print(bacon.index('cat'))\n",
    "# list index function returns index of the specified item first occurance index"
   ]
  },
  {
   "cell_type": "code",
   "execution_count": 23,
   "id": "b6b59d8c",
   "metadata": {},
   "outputs": [
    {
     "name": "stdout",
     "output_type": "stream",
     "text": [
      " Before  [3.14, 'cat', 11, 'cat', True]\n",
      "After  [3.14, 'cat', 11, 'cat', True, 99]\n"
     ]
    }
   ],
   "source": [
    "print(' Before ' ,bacon)\n",
    "bacon.append(99)\n",
    "# Append method addes item to the list at the end.\n",
    "print('After ' ,bacon )"
   ]
  },
  {
   "cell_type": "code",
   "execution_count": 25,
   "id": "267d4983",
   "metadata": {},
   "outputs": [
    {
     "name": "stdout",
     "output_type": "stream",
     "text": [
      " Before  [3.14, 11, 'cat', True, 99]\n",
      " After  [3.14, 11, True, 99]\n"
     ]
    }
   ],
   "source": [
    "print(' Before ' ,bacon)\n",
    "bacon.remove('cat') \n",
    "# Remove fucntion returns first occurance of specified in the list\n",
    "print(' After ' ,bacon)"
   ]
  },
  {
   "cell_type": "code",
   "execution_count": 5,
   "id": "1c5d7d27",
   "metadata": {},
   "outputs": [
    {
     "name": "stdout",
     "output_type": "stream",
     "text": [
      "[1, 2, 3, 4, 5, 6, 1, 10, 20, 30, 40]\n",
      "[1, 2, 3, 4, 5, 6, 1, 2, 3, 4, 5, 6, 1, 2, 3, 4, 5, 6]\n"
     ]
    }
   ],
   "source": [
    "# 9. What are the list concatenation and list replication operators?\n",
    "l = [1,2,3,4,5,6]\n",
    "l2 = [1,10,20,30,40]\n",
    "l3= l+l2 # we will use + for cancatintion \n",
    "print(l3)\n",
    "l4=l*3 # we will use * to repeate each item in list no.of specified times\n",
    "print(l4)"
   ]
  },
  {
   "cell_type": "code",
   "execution_count": 19,
   "id": "dbfdd8c4",
   "metadata": {},
   "outputs": [
    {
     "name": "stdout",
     "output_type": "stream",
     "text": [
      "[1, 3.5, 'durga', (4+4j), 'Ineuron']\n",
      "List after insert [1, 'I am new', [1, 2, 3], 3.5, 'durga', (4+4j), 'Ineuron']\n",
      "[1, 'I am new', [1, 2, 3], 3.5, 'durga', (4+4j), 'Ineuron', 1, 2, 3]\n"
     ]
    }
   ],
   "source": [
    "# 10. What is difference between the list methods append() and insert()?\n",
    "# Append we can append the item at the end of the list\n",
    "l= [1,3.5,\"durga\",4j+4]\n",
    "l.append(\"Ineuron\") \n",
    "print(l)\n",
    "#Insert we can insert item in specified position\n",
    "l.insert(1,\"I am new\")\n",
    "l.insert(2,[1,2,3])\n",
    "print('List after insert',l)\n",
    "e=(1,2,3)\n",
    "l.extend(e)\n",
    "print(l)"
   ]
  },
  {
   "cell_type": "code",
   "execution_count": 35,
   "id": "09f0abba",
   "metadata": {},
   "outputs": [
    {
     "name": "stdout",
     "output_type": "stream",
     "text": [
      "List before remove: [1, 2, 3, 4, 1, 5, 'durga', 4.5, 5]\n",
      "pop() item is  1\n",
      "List after Remove [2, 3, 4, 5, 'durga', 4.5, 5]\n",
      "List after del method [2, 'durga', 4.5, 5]\n"
     ]
    }
   ],
   "source": [
    "# 11. What are the two methods for removing items from a list?\n",
    "l = [1,2,3,4,1,5,\"durga\",4.5,5]\n",
    "print(\"List before remove:\",l) \n",
    "r =1\n",
    "p = 3\n",
    "d = 5\n",
    "if r in l: \n",
    "    l.remove(r)\n",
    "else :\n",
    "    print('Specified item not available in the list')\n",
    "    \n",
    "p1= l.pop(p)\n",
    "print(\"pop() item is \",p1)\n",
    "print(\"List after Remove\",l)\n",
    " \n",
    "del l[1:4]\n",
    "print(\"List after del method\",l)"
   ]
  },
  {
   "cell_type": "code",
   "execution_count": 37,
   "id": "608fda2c",
   "metadata": {},
   "outputs": [],
   "source": [
    "#  13. What's the difference between tuples and lists?\n",
    "# LIST: list is mutable , better for insert /remove /append items to the list. Consums more memory. so many built in methods\n",
    "# Tuple is immutable, best for accesing elements, consumes less memory, count,index only two  methods.\n",
    "L =[1,2,3,\"DURGA\"]\n",
    "T =(1,2,3,\"DURGA\")\n"
   ]
  },
  {
   "cell_type": "code",
   "execution_count": 51,
   "id": "456d9fea",
   "metadata": {},
   "outputs": [
    {
     "name": "stdout",
     "output_type": "stream",
     "text": [
      "yes\n"
     ]
    }
   ],
   "source": [
    "# 14. How do you type a tuple value that only contains the integer 42?\n",
    "T = (42,1,3,45)\n",
    "if T.count(42)==1:\n",
    "    print(\"yes has only one value 42\")"
   ]
  },
  {
   "cell_type": "code",
   "execution_count": 4,
   "id": "0a783767",
   "metadata": {},
   "outputs": [
    {
     "name": "stdout",
     "output_type": "stream",
     "text": [
      "[1, 2, 3]\n",
      "(1, 2, 3)\n"
     ]
    }
   ],
   "source": [
    "# 15. How do you get a list value's tuple form? How do you get a tuple value's list form?\n",
    "T = [1,2,3] \n",
    "L = list(T)\n",
    "print(L)\n",
    "T=tuple(L)\n",
    "print(T)"
   ]
  },
  {
   "cell_type": "code",
   "execution_count": 27,
   "id": "4509e047",
   "metadata": {},
   "outputs": [
    {
     "name": "stdout",
     "output_type": "stream",
     "text": [
      "['ABC', 1, [1, 2, 3], (1, 2), {'Name': 'Durga'}]\n"
     ]
    }
   ],
   "source": [
    "#16. Variables that \"contain\" list values are not necessarily lists themselves. Instead, what do they contain?\n",
    "# List holds any type of object not only list items\n",
    "List1 = ['ABC',1,[1,2,3],(1,2),{'Name':'Durga'}]\n",
    "print(List1)"
   ]
  },
  {
   "cell_type": "code",
   "execution_count": 23,
   "id": "4b274dde",
   "metadata": {},
   "outputs": [
    {
     "name": "stdout",
     "output_type": "stream",
     "text": [
      "[[1, 2, 3], [4, 5, 6], [7, 8, 'Hello'], 55]\n",
      "[[1, 2, 3], [4, 5, 6], [7, 8, 'Hello']]\n"
     ]
    }
   ],
   "source": [
    "# 17. How do you distinguish between copy.copy() and copy.deepcopy()?\n",
    "import copy\n",
    "\n",
    "#copy.copy()  is Shallow copy, created copy by storing refrence of object . \n",
    "#If we do any change to exisitng item it reflects to shallow copy as well\n",
    "   \n",
    "x = [[1, 2, 3], [4, 5, 6], [7, 8, 9]]  \n",
    "z = copy.copy(x)  \n",
    "  \n",
    "x[2][2] = 'Hello'  \n",
    "x.append(55)\n",
    "print(x)  \n",
    "print(z) \n"
   ]
  },
  {
   "cell_type": "code",
   "execution_count": 24,
   "id": "28a9da02",
   "metadata": {},
   "outputs": [
    {
     "name": "stdout",
     "output_type": "stream",
     "text": [
      "[[1, 2, 3], [4, 5, 6], [7, 8, 'Hello'], 55]\n",
      "[[1, 2, 3], [4, 5, 6], [7, 8, 9]]\n"
     ]
    }
   ],
   "source": [
    " import copy \n",
    "    \n",
    "#copy.deepcopy() # Created independent items.\n",
    "   \n",
    "x = [[1, 2, 3], [4, 5, 6], [7, 8, 9]]  \n",
    "z = copy.deepcopy(x)  \n",
    "  \n",
    "x[2][2] = 'Hello'  \n",
    "x.append(55)\n",
    "print(x)  \n",
    "print(z) "
   ]
  },
  {
   "cell_type": "code",
   "execution_count": 21,
   "id": "71ae0ab5",
   "metadata": {},
   "outputs": [
    {
     "name": "stdout",
     "output_type": "stream",
     "text": [
      "[[1, 2, 3], [4, 5, 6], [7, 8, 'Hello'], 55]\n",
      "[[1, 2, 3], [4, 5, 6], [7, 8, 9]]\n"
     ]
    }
   ],
   "source": []
  },
  {
   "cell_type": "code",
   "execution_count": null,
   "id": "13ecde73",
   "metadata": {},
   "outputs": [],
   "source": [
    "x.append()"
   ]
  }
 ],
 "metadata": {
  "kernelspec": {
   "display_name": "Python 3",
   "language": "python",
   "name": "python3"
  },
  "language_info": {
   "codemirror_mode": {
    "name": "ipython",
    "version": 3
   },
   "file_extension": ".py",
   "mimetype": "text/x-python",
   "name": "python",
   "nbconvert_exporter": "python",
   "pygments_lexer": "ipython3",
   "version": "3.8.8"
  }
 },
 "nbformat": 4,
 "nbformat_minor": 5
}
