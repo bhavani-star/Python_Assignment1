{
 "cells": [
  {
   "cell_type": "code",
   "execution_count": null,
   "metadata": {},
   "outputs": [],
   "source": [
    "\"\"\"\n",
    "1. Why are functions advantageous to have in your programs?\n",
    "Reducing duplication of code.\n",
    "Decomposing complex problems into simpler pieces.\n",
    "Improving clarity of the code.\n",
    "Reuse of code.\n",
    "Information hiding.\"\"\"\n"
   ]
  },
  {
   "cell_type": "code",
   "execution_count": 3,
   "metadata": {},
   "outputs": [
    {
     "name": "stdout",
     "output_type": "stream",
     "text": [
      " When its  called  not when its created\n"
     ]
    }
   ],
   "source": [
    "\"\"\"2. When does the code in a function run: when it's specified or when it's called?\"\"\"\n",
    "print(\" When its  called  not when its created\")\n",
    "def fun1():\n",
    "    print(\"I am student of Ineuron\")\n",
    "    \n"
   ]
  },
  {
   "cell_type": "code",
   "execution_count": 4,
   "metadata": {},
   "outputs": [
    {
     "name": "stdout",
     "output_type": "stream",
     "text": [
      "I am student of Ineuron\n"
     ]
    }
   ],
   "source": [
    "fun1()"
   ]
  },
  {
   "cell_type": "code",
   "execution_count": null,
   "metadata": {},
   "outputs": [],
   "source": [
    "\"\"\"3. What statement creates a function?\"\"\"\n",
    "#def keywork creates function\n",
    "\n",
    "def fucntionname( aruments):\n",
    "    code we can write"
   ]
  },
  {
   "cell_type": "code",
   "execution_count": null,
   "metadata": {},
   "outputs": [],
   "source": [
    "\"\"\" 4. What is the difference between a function and a function call? \"\"\"\n",
    "\n",
    "#function(): Block of code to be execute as per specified logic. And it return value. \n",
    "#WE can write function to Accept arguments as input and output as part of retrun stmt\n",
    "#function() call: Execute the specified logic mentioned in function. Actual operation will be executed whent its called.\n",
    "# function call means invoking function or calling that function. Unless a function called there is no use of function"
   ]
  },
  {
   "cell_type": "code",
   "execution_count": 1,
   "metadata": {},
   "outputs": [],
   "source": [
    "\"\"\" 5. How many global scopes are there in a Python program? How many local scopes? \n",
    "We saw four types of scope- local scope, enclosed scope, global scope, and built-in scope.\n",
    "\"\"\"\n",
    "\n",
    "a = 10# Global\n",
    "def scope_fun():\n",
    "    a = 20 # Local/with in Scope\n",
    "    print(a)\n",
    "    \n",
    "# we can use print function with import anything this is call built in variable"
   ]
  },
  {
   "cell_type": "code",
   "execution_count": 7,
   "metadata": {},
   "outputs": [
    {
     "name": "stdout",
     "output_type": "stream",
     "text": [
      "Function variable b is 10\n",
      "10\n"
     ]
    },
    {
     "ename": "NameError",
     "evalue": "name 'b' is not defined",
     "output_type": "error",
     "traceback": [
      "\u001b[1;31m---------------------------------------------------------------------------\u001b[0m",
      "\u001b[1;31mNameError\u001b[0m                                 Traceback (most recent call last)",
      "\u001b[1;32m<ipython-input-7-cd201f841cae>\u001b[0m in \u001b[0;36m<module>\u001b[1;34m\u001b[0m\n\u001b[0;32m      9\u001b[0m \u001b[0mscope_fun2\u001b[0m\u001b[1;33m(\u001b[0m\u001b[1;33m)\u001b[0m\u001b[1;33m\u001b[0m\u001b[1;33m\u001b[0m\u001b[0m\n\u001b[0;32m     10\u001b[0m \u001b[0mprint\u001b[0m \u001b[1;33m(\u001b[0m\u001b[0my\u001b[0m\u001b[1;33m)\u001b[0m\u001b[1;33m\u001b[0m\u001b[1;33m\u001b[0m\u001b[0m\n\u001b[1;32m---> 11\u001b[1;33m \u001b[0mprint\u001b[0m\u001b[1;33m(\u001b[0m\u001b[0mb\u001b[0m\u001b[1;33m)\u001b[0m\u001b[1;33m\u001b[0m\u001b[1;33m\u001b[0m\u001b[0m\n\u001b[0m",
      "\u001b[1;31mNameError\u001b[0m: name 'b' is not defined"
     ]
    }
   ],
   "source": [
    "\"\"\"6. What happens to variables in a local scope when the function call returns?\n",
    "local variable which are used function those scope with in th function only no more exists after function.\n",
    "\"\"\"\n",
    "y = 10 \n",
    "def scope_fun2():\n",
    "    b = 10\n",
    "    print(\"Function variable b is\" ,b)\n",
    "    \n",
    "scope_fun2()\n",
    "print (y)\n",
    "print(b)"
   ]
  },
  {
   "cell_type": "code",
   "execution_count": 10,
   "metadata": {},
   "outputs": [
    {
     "data": {
      "text/plain": [
       "6"
      ]
     },
     "execution_count": 10,
     "metadata": {},
     "output_type": "execute_result"
    }
   ],
   "source": [
    "\"\"\"7. What is the concept of a return value? Is it possible to have a return value in an expression?\n",
    "Ans: At the end function execution returns value at the end \n",
    "return used only with in the function \n",
    "no statements executed after return statement\n",
    "if nothing is mentioned retruns the None\n",
    "\n",
    "\"\"\"\n",
    "def func_add(a,b):\n",
    "    return a+b\n",
    "    print(\"Values of values are:\",a,b)\n",
    "    \n",
    "func_add(1,5)\n",
    "    "
   ]
  },
  {
   "cell_type": "code",
   "execution_count": 14,
   "metadata": {},
   "outputs": [
    {
     "name": "stdout",
     "output_type": "stream",
     "text": [
      "Multiplication of values: 2 5  is : 10\n",
      "Return type of function is: <class 'NoneType'>\n"
     ]
    }
   ],
   "source": [
    "\"\"\"8. If a function does not have a return statement, what is the return value of a call to that function? \"\"\"\n",
    "def func_mul(a,b):\n",
    "    c=  a*b\n",
    "    print(\"Multiplication of values:\",a,b,\" is :\",c)\n",
    "    \n",
    "rt = func_mul(2,5)\n",
    "print(\"Return type of function is:\",type(rt))\n",
    "# If return type doesnt mentoined returns None type\n",
    "    \n"
   ]
  },
  {
   "cell_type": "code",
   "execution_count": 17,
   "metadata": {},
   "outputs": [
    {
     "name": "stdout",
     "output_type": "stream",
     "text": [
      "I am the employe of  Ineuron with Pakage of : 15.5\n"
     ]
    }
   ],
   "source": [
    "\"\"\" 9. How do you make a function variable refer to the global variable? \"\"\"\n",
    "#Global variable means it can be accessed from any where even within the function as well\n",
    "\n",
    "Company = 'Ineuron'\n",
    "\n",
    "def EmpInfo(Name,Pack):\n",
    "    print('I am the employe of ',Company,'with Pakage of :',Pack)\n",
    "\n",
    "EmpInfo(\"DurgaBhavani\",'15.5')\n",
    "#Company is global variable can be accessed with in the function"
   ]
  },
  {
   "cell_type": "code",
   "execution_count": 20,
   "metadata": {},
   "outputs": [
    {
     "data": {
      "text/plain": [
       "NoneType"
      ]
     },
     "execution_count": 20,
     "metadata": {},
     "output_type": "execute_result"
    }
   ],
   "source": [
    "\"\"\"10. What is the data type of None? \"\"\"\n",
    "a = None\n",
    "type(a)\n",
    "# None is the data type of NoneType"
   ]
  },
  {
   "cell_type": "code",
   "execution_count": 21,
   "metadata": {},
   "outputs": [
    {
     "ename": "ModuleNotFoundError",
     "evalue": "No module named 'areallyourpetsnamederic'",
     "output_type": "error",
     "traceback": [
      "\u001b[1;31m---------------------------------------------------------------------------\u001b[0m",
      "\u001b[1;31mModuleNotFoundError\u001b[0m                       Traceback (most recent call last)",
      "\u001b[1;32m<ipython-input-21-3b8d61952352>\u001b[0m in \u001b[0;36m<module>\u001b[1;34m\u001b[0m\n\u001b[0;32m      1\u001b[0m \u001b[1;34m\"\"\"11. What does the sentence import areallyourpetsnamederic do? \"\"\"\u001b[0m\u001b[1;33m\u001b[0m\u001b[1;33m\u001b[0m\u001b[0m\n\u001b[1;32m----> 2\u001b[1;33m \u001b[1;32mimport\u001b[0m \u001b[0mareallyourpetsnamederic\u001b[0m\u001b[1;33m\u001b[0m\u001b[1;33m\u001b[0m\u001b[0m\n\u001b[0m",
      "\u001b[1;31mModuleNotFoundError\u001b[0m: No module named 'areallyourpetsnamederic'"
     ]
    }
   ],
   "source": [
    "\"\"\"11. What does the sentence import areallyourpetsnamederic do? \"\"\"\n",
    "import areallyourpetsnamederic\n",
    "#If we try to import module which is not avalabile in python library weill get error as below"
   ]
  },
  {
   "cell_type": "code",
   "execution_count": 22,
   "metadata": {},
   "outputs": [
    {
     "ename": "ModuleNotFoundError",
     "evalue": "No module named 'spam'",
     "output_type": "error",
     "traceback": [
      "\u001b[1;31m---------------------------------------------------------------------------\u001b[0m",
      "\u001b[1;31mModuleNotFoundError\u001b[0m                       Traceback (most recent call last)",
      "\u001b[1;32m<ipython-input-22-62df6be5fb15>\u001b[0m in \u001b[0;36m<module>\u001b[1;34m\u001b[0m\n\u001b[0;32m      1\u001b[0m \u001b[1;34m\"\"\" 12. If you had a bacon() feature in a spam module, what would you call it after importing spam? \"\"\"\u001b[0m\u001b[1;33m\u001b[0m\u001b[1;33m\u001b[0m\u001b[0m\n\u001b[1;32m----> 2\u001b[1;33m \u001b[1;32mimport\u001b[0m \u001b[0mspam\u001b[0m\u001b[1;33m\u001b[0m\u001b[1;33m\u001b[0m\u001b[0m\n\u001b[0m\u001b[0;32m      3\u001b[0m \u001b[1;33m\u001b[0m\u001b[0m\n\u001b[0;32m      4\u001b[0m \u001b[0mbacon\u001b[0m\u001b[1;33m(\u001b[0m\u001b[1;33m)\u001b[0m\u001b[1;33m\u001b[0m\u001b[1;33m\u001b[0m\u001b[0m\n",
      "\u001b[1;31mModuleNotFoundError\u001b[0m: No module named 'spam'"
     ]
    }
   ],
   "source": [
    "\n",
    "\"\"\" 12. If you had a bacon() feature in a spam module, what would you call it after importing spam? \"\"\"\n",
    "import spam\n",
    "bacon()\n"
   ]
  },
  {
   "cell_type": "code",
   "execution_count": 28,
   "metadata": {},
   "outputs": [
    {
     "name": "stdout",
     "output_type": "stream",
     "text": [
      "division by zero\n"
     ]
    }
   ],
   "source": [
    "\"\"\" 13. What can you do to save a programme from crashing if it encounters an error? \"\"\"\n",
    "# we will use try,except blocks to execute program without crash\n",
    "\n",
    "try :\n",
    "    c= 5/0\n",
    "    print(\" Value of 5/0 is:\",c)\n",
    "except Exception as e:\n",
    "    print (e)"
   ]
  },
  {
   "cell_type": "code",
   "execution_count": 29,
   "metadata": {},
   "outputs": [
    {
     "name": "stdout",
     "output_type": "stream",
     "text": [
      "Getting devide by zero error \n",
      "Execute this block irrespective of exception occurs or not\n"
     ]
    }
   ],
   "source": [
    "\"\"\" 14. What is the purpose of the try clause? What is the purpose of the except clause?\"\"\"\n",
    "# For smmoth code execution  we can write suspect code in try block.\n",
    "# except blcok is used to code which has to execute in case of error. And to note the reason for error\n",
    "\n",
    "def Fun_exception(x, y):\n",
    "    try: \n",
    "        re = x / y\n",
    "    except ZeroDivisionError:\n",
    "        print(\"Getting devide by zero error \")\n",
    "    else:\n",
    "        print(\"Answer is :\", re)\n",
    "    finally:  \n",
    "        print('Execute this block irrespective of exception occurs or not')  \n",
    "        \n",
    "Fun_exception(5,0)\n",
    " "
   ]
  },
  {
   "cell_type": "code",
   "execution_count": null,
   "metadata": {},
   "outputs": [],
   "source": []
  }
 ],
 "metadata": {
  "kernelspec": {
   "display_name": "Python 3",
   "language": "python",
   "name": "python3"
  },
  "language_info": {
   "codemirror_mode": {
    "name": "ipython",
    "version": 3
   },
   "file_extension": ".py",
   "mimetype": "text/x-python",
   "name": "python",
   "nbconvert_exporter": "python",
   "pygments_lexer": "ipython3",
   "version": "3.8.8"
  }
 },
 "nbformat": 4,
 "nbformat_minor": 4
}
