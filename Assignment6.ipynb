{
 "cells": [
  {
   "cell_type": "code",
   "execution_count": 13,
   "metadata": {},
   "outputs": [
    {
     "name": "stdout",
     "output_type": "stream",
     "text": [
      "Durga's\n",
      "Durga's\n",
      "Ineuron\"s\n",
      "Ineuron\"s\n",
      "hello\\world\n",
      "hello\n",
      "world\n",
      "hello\r",
      "world\n",
      "tab \t space\n",
      "backk\b space\n",
      "form \f",
      "feed\n"
     ]
    },
    {
     "data": {
      "text/plain": [
       "'\\n\\t\\tTab\\n\\x08\\tBackspace\\n\\x0c\\tForm Feed '"
      ]
     },
     "execution_count": 13,
     "metadata": {},
     "output_type": "execute_result"
    }
   ],
   "source": [
    "#1. What are escape characters, and how do you use them? \n",
    "\"\"\"Code\tDescription\n",
    "\\’\tSingle Quote \"\"\"\n",
    "print(\"Durga's\")\n",
    "print('Durga\\'s')\n",
    "\n",
    "\"\"\"\n",
    "\\”\tDouble Quote \"\"\"\n",
    "print(\"Ineuron\\\"s\")\n",
    "print('Ineuron\"s')\n",
    "\n",
    "\"\"\"\n",
    "\\\\\tBackslash \"\"\"\n",
    "\n",
    "print( 'hello\\\\world') \n",
    "\n",
    "\"\"\"\n",
    "\\n\tNew Line \"\"\"\n",
    "\n",
    "print( 'hello\\nworld')\n",
    "\n",
    "\n",
    "\n",
    "\"\"\"\n",
    "\\r\tCarriage Retrun\n",
    "\n",
    "\"\"\"\n",
    "\n",
    "print( 'hello\\rworld')\n",
    "\n",
    "print( 'tab \\t space')\n",
    "print (\"backk\\b space\")\n",
    "print (\"form \\ffeed\")\n",
    "\n",
    "\"\"\"\n",
    "\\t\tTab\n",
    "\\b\tBackspace\n",
    "\\f\tForm Feed \"\"\""
   ]
  },
  {
   "cell_type": "code",
   "execution_count": 14,
   "metadata": {},
   "outputs": [
    {
     "name": "stdout",
     "output_type": "stream",
     "text": [
      "hello\n",
      "world\n",
      "tab \t space\n"
     ]
    }
   ],
   "source": [
    "# 2. What do the escape characters n and t stand for?\n",
    "\n",
    "print( 'hello\\nworld')# gives newline \n",
    "print( 'tab \\t space') # gives tab space "
   ]
  },
  {
   "cell_type": "code",
   "execution_count": 15,
   "metadata": {},
   "outputs": [
    {
     "name": "stdout",
     "output_type": "stream",
     "text": [
      "backk\b\b space\n"
     ]
    }
   ],
   "source": [
    "# 3. What is the way to include backslash characters in a string?\n",
    "\n",
    "print (\"backk\\b\\b space\")# removes one character before mentioned"
   ]
  },
  {
   "cell_type": "code",
   "execution_count": 16,
   "metadata": {},
   "outputs": [
    {
     "name": "stdout",
     "output_type": "stream",
     "text": [
      "Howl's Moving Castle\n"
     ]
    }
   ],
   "source": [
    "# 4. The string \"Howl's Moving Castle\" is a correct value. Why isn't the single quote character in the word Howl's not escaped a problem?\n",
    "print(\"Howl's Moving Castle\")\n",
    "# if we mention string single quotes , Double quotes consider as string only and vice versa"
   ]
  },
  {
   "cell_type": "code",
   "execution_count": null,
   "metadata": {},
   "outputs": [],
   "source": [
    "# 5. How do you write a string of newlines if you don't want to use the n character?"
   ]
  },
  {
   "cell_type": "code",
   "execution_count": 2,
   "metadata": {},
   "outputs": [
    {
     "name": "stdout",
     "output_type": "stream",
     "text": [
      "e\n",
      "Hello\n",
      "Hello\n",
      "lo, world!\n"
     ]
    }
   ],
   "source": [
    "# 6. What are the values of the given expressions?\n",
    "#string slicing operations\n",
    "print('Hello, world!'[1])# Retruns 1th index charater\n",
    "print('Hello, world!'[0:5]) # Returns 0 to 5 index character\n",
    "print('Hello, world!'[:5])# Retruns 0 to 5 Index character\n",
    "print( 'Hello, world!'[3:] ) # Starts 3 index to till end"
   ]
  },
  {
   "cell_type": "code",
   "execution_count": 4,
   "metadata": {},
   "outputs": [
    {
     "name": "stdout",
     "output_type": "stream",
     "text": [
      "HELLO\n",
      "True\n",
      "hello\n"
     ]
    }
   ],
   "source": [
    "# 7. What are the values of the following expressions?\n",
    "print('Hello'.upper() )\n",
    "print('Hello'.upper().isupper())\n",
    "print('Hello'.upper().lower())"
   ]
  },
  {
   "cell_type": "code",
   "execution_count": 10,
   "metadata": {},
   "outputs": [
    {
     "name": "stdout",
     "output_type": "stream",
     "text": [
      "['Remember', ' remember', ' the fifth', ' of', ' July  and', ' or .']\n",
      "There-can-only-one.\n"
     ]
    }
   ],
   "source": [
    "# 8. What are the values of the following expressions?\n",
    "print('Remember, remember, the fifth, of, July  and, or .'.split(','))\n",
    "print('-'.join('There can only one.'.split()))\n",
    "# An iterable object such as list, tuple, string, set, dict."
   ]
  },
  {
   "cell_type": "code",
   "execution_count": 24,
   "metadata": {},
   "outputs": [
    {
     "name": "stdout",
     "output_type": "stream",
     "text": [
      "Center allignment \n",
      " #######Durga Bhavani From Ineuron#######\n",
      "Left allignment  \n",
      " Durga Bhavani From Ineuron@@@@@@@@@@@@@@\n",
      "Right allignment  \n",
      " @@@@@@@@@@@@@@Durga Bhavani From Ineuron\n"
     ]
    }
   ],
   "source": [
    "# 9. What are the methods for right-justifying, left-justifying, and centering a string?\n",
    "str = 'Durga Bhavani From Ineuron'\n",
    "print('Center allignment','\\n' ,str.center(40,'#'))\n",
    "\n",
    "print('Left allignment ', '\\n',str.ljust(40,'@'))\n",
    "\n",
    "print('Right allignment ', '\\n',str.rjust(40,'@'))"
   ]
  },
  {
   "cell_type": "code",
   "execution_count": 31,
   "metadata": {},
   "outputs": [
    {
     "name": "stdout",
     "output_type": "stream",
     "text": [
      "python examples\n",
      "27\n",
      "15\n"
     ]
    }
   ],
   "source": [
    "#10. What is the best way to remove whitespace characters from the start or end?\n",
    "str = '   python examples        \\t'\n",
    "\n",
    "cleanstring = str.strip()\n",
    "print(cleanstring)\n",
    "print(len(str))\n",
    "print(len(cleanstring) )"
   ]
  },
  {
   "cell_type": "code",
   "execution_count": null,
   "metadata": {},
   "outputs": [],
   "source": []
  }
 ],
 "metadata": {
  "kernelspec": {
   "display_name": "Python 3",
   "language": "python",
   "name": "python3"
  },
  "language_info": {
   "codemirror_mode": {
    "name": "ipython",
    "version": 3
   },
   "file_extension": ".py",
   "mimetype": "text/x-python",
   "name": "python",
   "nbconvert_exporter": "python",
   "pygments_lexer": "ipython3",
   "version": "3.7.6"
  }
 },
 "nbformat": 4,
 "nbformat_minor": 4
}
