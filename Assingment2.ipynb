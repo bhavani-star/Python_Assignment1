{
 "cells": [
  {
   "cell_type": "code",
   "execution_count": 12,
   "metadata": {},
   "outputs": [
    {
     "data": {
      "text/plain": [
       "(False, True)"
      ]
     },
     "execution_count": 12,
     "metadata": {},
     "output_type": "execute_result"
    }
   ],
   "source": [
    "# Assignment2\n",
    "#1.What are the two values of the Boolean data type? How do you write them?\n",
    "#True and False\n",
    "b = False\n",
    "b1=True\n",
    "b,b1 "
   ]
  },
  {
   "cell_type": "code",
   "execution_count": 16,
   "metadata": {},
   "outputs": [
    {
     "name": "stdout",
     "output_type": "stream",
     "text": [
      "25\n",
      "20\n",
      "False\n",
      "True\n"
     ]
    }
   ],
   "source": [
    "#2. What are the three different types of Boolean operators?\n",
    "#The operators are: AND , OR  , NOT\n",
    "x = 20\n",
    "y = 25\n",
    "andvar = x and y\n",
    "print (and_op)\n",
    "or_var = x or y\n",
    "print(or_var)\n",
    "not_var = not x\n",
    "print(not_var)\n",
    "x = 0\n",
    "print ( not x)"
   ]
  },
  {
   "cell_type": "code",
   "execution_count": 26,
   "metadata": {},
   "outputs": [
    {
     "name": "stdout",
     "output_type": "stream",
     "text": [
      " AND \n",
      "0\n",
      "0\n",
      "1\n",
      "0\n",
      " OR \n",
      "1\n",
      "0\n",
      "1\n",
      "1\n",
      " NOT \n",
      "True\n",
      "False\n"
     ]
    }
   ],
   "source": [
    "\"\"\"3. Make a list of each Boolean operator&#39;s truth tables (i.e. every possible combination of Boolean\n",
    "values for the operator and what it evaluate ).\"\"\"\n",
    "b = [0,1]\n",
    "b1=[1,0]\n",
    "print( \" AND \")\n",
    "for i in b:\n",
    "    for j in b1:\n",
    "        print( i and j) \n",
    "print (\" OR \")\n",
    "for i in b:\n",
    "    for j in b1:\n",
    "        print( i or j)\n",
    "print(\" NOT \")\n",
    "for i in b:\n",
    "    print( not i)"
   ]
  },
  {
   "cell_type": "code",
   "execution_count": 27,
   "metadata": {},
   "outputs": [
    {
     "name": "stdout",
     "output_type": "stream",
     "text": [
      "False\n",
      "False\n",
      "True\n",
      "False\n",
      "False\n",
      "True\n"
     ]
    }
   ],
   "source": [
    "# What are the values of the following expressions?\n",
    "print((5 > 4) and (3 == 5))\n",
    "print(not (5 > 4))\n",
    "print((5 > 4) or (3 == 5) )\n",
    "print(not ((5 > 4) or (3 == 5)))\n",
    "print((True and True) and (True == False))\n",
    "print((not False) or (not True))\n"
   ]
  },
  {
   "cell_type": "code",
   "execution_count": 28,
   "metadata": {},
   "outputs": [
    {
     "ename": "SyntaxError",
     "evalue": "invalid syntax (<ipython-input-28-1f4ea55bed16>, line 2)",
     "output_type": "error",
     "traceback": [
      "\u001b[1;36m  File \u001b[1;32m\"<ipython-input-28-1f4ea55bed16>\"\u001b[1;36m, line \u001b[1;32m2\u001b[0m\n\u001b[1;33m    == -> Equal\u001b[0m\n\u001b[1;37m     ^\u001b[0m\n\u001b[1;31mSyntaxError\u001b[0m\u001b[1;31m:\u001b[0m invalid syntax\n"
     ]
    }
   ],
   "source": [
    "#What are the six comparison operators? \n",
    "== -> Equal \n",
    "!= -> Not equal\n",
    "> -> Greater than\n",
    "< -> Less than\n",
    ">= -> Greater than or equal to\n",
    "<= -> Less than or equal to"
   ]
  },
  {
   "cell_type": "code",
   "execution_count": 30,
   "metadata": {},
   "outputs": [
    {
     "name": "stdout",
     "output_type": "stream",
     "text": [
      "10\n",
      " a and b are equal\n"
     ]
    }
   ],
   "source": [
    "\"\"\"How do you tell the difference between the equal to and assignment operators?\n",
    "Describe a condition and when you would use one.\"\"\"\n",
    "# = is assignment operator to assing value/ constant to variable\n",
    "a = 10\n",
    "print(a)\n",
    "\n",
    "#== is comparistion operator , if both variable values are equal returns true otherwise false\n",
    "\n",
    "a = 10\n",
    "b = 10\n",
    "if a==b:\n",
    "    print ( \" a and b are equal\")\n",
    "else :\n",
    "    print( \" and be are not equal\")"
   ]
  },
  {
   "cell_type": "code",
   "execution_count": 34,
   "metadata": {},
   "outputs": [
    {
     "name": "stdout",
     "output_type": "stream",
     "text": [
      "ham\n",
      "spam\n",
      "spam\n"
     ]
    }
   ],
   "source": [
    "# 7. Identify the three blocks in this code:\n",
    "# block1\n",
    "spam = 0\n",
    "#block2\n",
    "if spam == 10:\n",
    "    print('eggs')\n",
    "#block3\n",
    "if spam > 5:\n",
    "    print('bacon')\n",
    "else:\n",
    "    print('ham')\n",
    "    print('spam')\n",
    "    print('spam')\n"
   ]
  },
  {
   "cell_type": "code",
   "execution_count": 38,
   "metadata": {},
   "outputs": [
    {
     "name": "stdout",
     "output_type": "stream",
     "text": [
      "Greetings!\n"
     ]
    }
   ],
   "source": [
    "\"\"\"8. Write code that prints Hello if 1 is stored in spam, prints Howdy if 2 is stored in spam, \n",
    "and prints Greetings! if anything else is stored in spam.\"\"\"\n",
    "spam= '1'\n",
    "if spam == 1:\n",
    "    print(\" Hello\")\n",
    "elif spam == 2:\n",
    "    print(\"Howdy\")\n",
    "else :\n",
    "    print(\"Greetings!\")"
   ]
  },
  {
   "cell_type": "code",
   "execution_count": null,
   "metadata": {},
   "outputs": [],
   "source": [
    "\"\"\"9.If your programme is stuck in an endless loop, what keys you’ll press?\n",
    "while(1==1):\n",
    "    print(1) \"\"\"\n",
    " # Ctrl +c"
   ]
  },
  {
   "cell_type": "code",
   "execution_count": 6,
   "metadata": {},
   "outputs": [
    {
     "name": "stdout",
     "output_type": "stream",
     "text": [
      "1\n",
      "2\n",
      "3\n"
     ]
    }
   ],
   "source": [
    "# 10. How can you tell the difference between break and continue?\n",
    "\n",
    "\"\"\"Break: if we use break , for or while loop we exit from the loop. and skips remaing execution.\n",
    "With break execute same code until some specified condition true.\"\"\"\n",
    "\"\"\"continue: if we use continue in for or while loop it exits from current iteration \n",
    "and moves to next iteration. we can use continue to skip some logic in specified iteration and jumps to next iteration\"\"\"\n",
    "\n",
    "# Break\n",
    "l = [1,2,3,4,5]\n",
    "for i in l:\n",
    "    print (i)\n",
    "    if i == 3:\n",
    "        break\n",
    "    \n"
   ]
  },
  {
   "cell_type": "code",
   "execution_count": 11,
   "metadata": {},
   "outputs": [
    {
     "name": "stdout",
     "output_type": "stream",
     "text": [
      "1\n",
      "2\n",
      "3\n",
      "5\n"
     ]
    }
   ],
   "source": [
    "#Continue\n",
    "for i in l:\n",
    "    if i == 4:\n",
    "        continue\n",
    "    print(i)"
   ]
  },
  {
   "cell_type": "code",
   "execution_count": 20,
   "metadata": {},
   "outputs": [
    {
     "name": "stdout",
     "output_type": "stream",
     "text": [
      "range(10): [0, 1, 2, 3, 4, 5, 6, 7, 8, 9] \n",
      "range(1,10): [1, 2, 3, 4, 5, 6, 7, 8, 9] \n",
      "range(1,10,2): [1, 3, 5, 7, 9]\n"
     ]
    }
   ],
   "source": [
    "\"\"\"11. In a for loop, what is the difference between range(10), range(0, 10), and range(0, 10, 1)?\"\"\"\n",
    "#range(stop): Generates integer numbser till specified number\n",
    "#range(start,stop): generates integer numbers from sepcified start to stop\n",
    "#range ( start,stop,step): generates integer numbers from specified start to stop with specified step size, \n",
    "# By default it is 1.\n",
    "l1 =[]\n",
    "l2=[]\n",
    "l3=[]\n",
    "for i in range(10):\n",
    "    l1.append(i)\n",
    "for i in range (1,10):\n",
    "    l2.append(i)\n",
    "for i in range(1,10,2):\n",
    "    l3.append(i)\n",
    "    \n",
    "print('range(10):',l1,'\\nrange(1,10):',l2,'\\nrange(1,10,2):',l3)\n",
    "    "
   ]
  },
  {
   "cell_type": "code",
   "execution_count": 2,
   "metadata": {},
   "outputs": [
    {
     "name": "stdout",
     "output_type": "stream",
     "text": [
      "1\n",
      "2\n",
      "3\n",
      "4\n",
      "5\n",
      "6\n",
      "7\n",
      "8\n",
      "9\n",
      "10\n"
     ]
    }
   ],
   "source": [
    "\"\"\"12. Write a short program that prints the numbers 1 to 10 using a for loop. \n",
    "Then write an equivalent program that prints the numbers 1 to 10 using a while loop.\"\"\"\n",
    "for i in range(1,11):\n",
    "    print(i)\n",
    "    "
   ]
  },
  {
   "cell_type": "code",
   "execution_count": 4,
   "metadata": {},
   "outputs": [
    {
     "name": "stdout",
     "output_type": "stream",
     "text": [
      "1\n",
      "2\n",
      "3\n",
      "4\n",
      "5\n",
      "6\n",
      "7\n",
      "8\n",
      "9\n",
      "10\n"
     ]
    }
   ],
   "source": [
    "#while loop\n",
    "j=1\n",
    "while j<=10:\n",
    "    print(j)\n",
    "    j+=1"
   ]
  },
  {
   "cell_type": "code",
   "execution_count": null,
   "metadata": {},
   "outputs": [],
   "source": [
    "\"\"\"13.If you had a function named bacon() inside a module named spam, how would you call it after importing spam?\n",
    "\"\"\"\n",
    "import spam\n",
    "a = spam.bacon()"
   ]
  }
 ],
 "metadata": {
  "kernelspec": {
   "display_name": "Python 3",
   "language": "python",
   "name": "python3"
  },
  "language_info": {
   "codemirror_mode": {
    "name": "ipython",
    "version": 3
   },
   "file_extension": ".py",
   "mimetype": "text/x-python",
   "name": "python",
   "nbconvert_exporter": "python",
   "pygments_lexer": "ipython3",
   "version": "3.7.6"
  }
 },
 "nbformat": 4,
 "nbformat_minor": 4
}
